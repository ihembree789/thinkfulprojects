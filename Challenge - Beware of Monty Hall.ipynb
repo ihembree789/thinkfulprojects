{
 "cells": [
  {
   "cell_type": "markdown",
   "metadata": {},
   "source": [
    "I would switch. When I pick one of the doors, I only have 1/3 chance of getting it right. Regardless of whether or not I got it right, one of the other two doors is empty, so when I switch it's like I'm pick two doors. By Switching my odds increase to 2/3. Bayes’ rule might apply because when one of the empty doors is shown the conditional probability changes. "
   ]
  },
  {
   "cell_type": "code",
   "execution_count": null,
   "metadata": {},
   "outputs": [],
   "source": []
  }
 ],
 "metadata": {
  "kernelspec": {
   "display_name": "Python 3",
   "language": "python",
   "name": "python3"
  },
  "language_info": {
   "codemirror_mode": {
    "name": "ipython",
    "version": 3
   },
   "file_extension": ".py",
   "mimetype": "text/x-python",
   "name": "python",
   "nbconvert_exporter": "python",
   "pygments_lexer": "ipython3",
   "version": "3.6.4"
  }
 },
 "nbformat": 4,
 "nbformat_minor": 2
}
