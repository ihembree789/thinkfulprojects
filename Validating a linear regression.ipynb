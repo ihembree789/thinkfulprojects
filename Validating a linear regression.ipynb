{
 "cells": [
  {
   "cell_type": "code",
   "execution_count": 193,
   "metadata": {},
   "outputs": [],
   "source": [
    "from IPython.display import display\n",
    "from matplotlib import pyplot as plt\n",
    "from sklearn import linear_model\n",
    "import statsmodels.formula.api as smf"
   ]
  },
  {
   "cell_type": "code",
   "execution_count": 194,
   "metadata": {},
   "outputs": [
    {
     "data": {
      "text/plain": [
       "True"
      ]
     },
     "execution_count": 194,
     "metadata": {},
     "output_type": "execute_result"
    }
   ],
   "source": [
    "import pandas as pd\n",
    "import numpy as np\n",
    "import matplotlib.pyplot as plt\n",
    "import seaborn as sns\n",
    "import scipy.stats as stats\n",
    "import math\n",
    "import statistics\n",
    "from matplotlib.mlab import PCA as mlabPCA\n",
    "from sklearn.preprocessing import StandardScaler\n",
    "from sklearn.decomposition import PCA \n",
    "from statsmodels.sandbox.regression.predstd import wls_prediction_std\n",
    "\n",
    "df = pd.read_csv('Offenses_NYC_2014.csv')\n",
    "df.isnull().values.any() \n"
   ]
  },
  {
   "cell_type": "code",
   "execution_count": 195,
   "metadata": {
    "scrolled": true
   },
   "outputs": [],
   "source": [
    "features = ['Burglary','Murder and nonnegligent manslaughter', 'Robbery']\n",
    "fx = df.loc[:, features].values\n",
    "\n",
    "df = df.drop(df.index[227])\n",
    "df = df.drop(df.index[363])\n"
   ]
  },
  {
   "cell_type": "code",
   "execution_count": 196,
   "metadata": {},
   "outputs": [],
   "source": [
    "rob=df['Robbery']\n",
    "pop=df['Population']\n",
    "square=df['Population']**2\n",
    "df['Population Squared']=square\n",
    "murder=df['Murder and nonnegligent manslaughter']"
   ]
  },
  {
   "cell_type": "code",
   "execution_count": 197,
   "metadata": {},
   "outputs": [],
   "source": [
    "count=0\n",
    "rob=rob*1\n",
    "for num in rob:\n",
    "    if num > 0:\n",
    "     rob[count]=1\n",
    "    count +=1\n",
    "df['rob']=rob\n",
    "\n",
    "count=0\n",
    "murder=murder*1\n",
    "for num in murder:\n",
    "    if num > 0:\n",
    "     murder[count]=1\n",
    "    count +=1\n",
    "df['murder']=murder\n",
    "\n",
    "burg=df['Burglary']\n",
    "count=0\n",
    "burg=burg*1\n",
    "for num in burg:\n",
    "    if num > 0:\n",
    "     burg[count]=1\n",
    "    count +=1\n",
    "df['burglary']=burg\n",
    "\n",
    "assault=df['Aggravated assault']\n",
    "count=0\n",
    "assault=assault*1\n",
    "for num in assault:\n",
    "    if num > 0:\n",
    "     assault[count]=1\n",
    "    count +=1\n",
    "df['Agg. Assault']=assault\n",
    "\n",
    "theft=df['Larceny-theft']\n",
    "count=0\n",
    "theft=theft*1\n",
    "for num in theft:\n",
    "    if num > 0:\n",
    "     theft[count]=1\n",
    "    count +=1\n",
    "df['larceny']=theft"
   ]
  },
  {
   "cell_type": "code",
   "execution_count": 198,
   "metadata": {
    "scrolled": true
   },
   "outputs": [
    {
     "data": {
      "text/html": [
       "<div>\n",
       "<style scoped>\n",
       "    .dataframe tbody tr th:only-of-type {\n",
       "        vertical-align: middle;\n",
       "    }\n",
       "\n",
       "    .dataframe tbody tr th {\n",
       "        vertical-align: top;\n",
       "    }\n",
       "\n",
       "    .dataframe thead th {\n",
       "        text-align: right;\n",
       "    }\n",
       "</style>\n",
       "<table border=\"1\" class=\"dataframe\">\n",
       "  <thead>\n",
       "    <tr style=\"text-align: right;\">\n",
       "      <th></th>\n",
       "      <th>City</th>\n",
       "      <th>Population</th>\n",
       "      <th>Violent crime</th>\n",
       "      <th>Murder and nonnegligent manslaughter</th>\n",
       "      <th>Rape (revised definition)</th>\n",
       "      <th>Rape (legacy definition)2</th>\n",
       "      <th>Robbery</th>\n",
       "      <th>Aggravated assault</th>\n",
       "      <th>Property crime</th>\n",
       "      <th>Burglary</th>\n",
       "      <th>Larceny-theft</th>\n",
       "      <th>Motor vehicle theft</th>\n",
       "      <th>Arson3</th>\n",
       "      <th>Population Squared</th>\n",
       "      <th>rob</th>\n",
       "      <th>murder</th>\n",
       "      <th>burglary</th>\n",
       "      <th>Agg. Assault</th>\n",
       "      <th>larceny</th>\n",
       "    </tr>\n",
       "  </thead>\n",
       "  <tbody>\n",
       "    <tr>\n",
       "      <th>0</th>\n",
       "      <td>Adams Village</td>\n",
       "      <td>1851.0</td>\n",
       "      <td>0.0</td>\n",
       "      <td>0.0</td>\n",
       "      <td>NaN</td>\n",
       "      <td>0.0</td>\n",
       "      <td>0.0</td>\n",
       "      <td>0.0</td>\n",
       "      <td>11.0</td>\n",
       "      <td>1.0</td>\n",
       "      <td>10.0</td>\n",
       "      <td>0.0</td>\n",
       "      <td>0.0</td>\n",
       "      <td>3.426201e+06</td>\n",
       "      <td>0.0</td>\n",
       "      <td>0.0</td>\n",
       "      <td>1.0</td>\n",
       "      <td>0.0</td>\n",
       "      <td>1.0</td>\n",
       "    </tr>\n",
       "    <tr>\n",
       "      <th>1</th>\n",
       "      <td>Addison Town and Village</td>\n",
       "      <td>2568.0</td>\n",
       "      <td>2.0</td>\n",
       "      <td>0.0</td>\n",
       "      <td>NaN</td>\n",
       "      <td>0.0</td>\n",
       "      <td>1.0</td>\n",
       "      <td>1.0</td>\n",
       "      <td>49.0</td>\n",
       "      <td>1.0</td>\n",
       "      <td>47.0</td>\n",
       "      <td>1.0</td>\n",
       "      <td>0.0</td>\n",
       "      <td>6.594624e+06</td>\n",
       "      <td>1.0</td>\n",
       "      <td>0.0</td>\n",
       "      <td>1.0</td>\n",
       "      <td>1.0</td>\n",
       "      <td>1.0</td>\n",
       "    </tr>\n",
       "    <tr>\n",
       "      <th>2</th>\n",
       "      <td>Afton Village4</td>\n",
       "      <td>820.0</td>\n",
       "      <td>0.0</td>\n",
       "      <td>0.0</td>\n",
       "      <td>0.0</td>\n",
       "      <td>NaN</td>\n",
       "      <td>0.0</td>\n",
       "      <td>0.0</td>\n",
       "      <td>1.0</td>\n",
       "      <td>0.0</td>\n",
       "      <td>1.0</td>\n",
       "      <td>0.0</td>\n",
       "      <td>0.0</td>\n",
       "      <td>6.724000e+05</td>\n",
       "      <td>0.0</td>\n",
       "      <td>0.0</td>\n",
       "      <td>0.0</td>\n",
       "      <td>0.0</td>\n",
       "      <td>1.0</td>\n",
       "    </tr>\n",
       "    <tr>\n",
       "      <th>3</th>\n",
       "      <td>Akron Village</td>\n",
       "      <td>2842.0</td>\n",
       "      <td>1.0</td>\n",
       "      <td>0.0</td>\n",
       "      <td>NaN</td>\n",
       "      <td>0.0</td>\n",
       "      <td>0.0</td>\n",
       "      <td>1.0</td>\n",
       "      <td>17.0</td>\n",
       "      <td>0.0</td>\n",
       "      <td>17.0</td>\n",
       "      <td>0.0</td>\n",
       "      <td>0.0</td>\n",
       "      <td>8.076964e+06</td>\n",
       "      <td>0.0</td>\n",
       "      <td>0.0</td>\n",
       "      <td>0.0</td>\n",
       "      <td>1.0</td>\n",
       "      <td>1.0</td>\n",
       "    </tr>\n",
       "    <tr>\n",
       "      <th>4</th>\n",
       "      <td>Albany4</td>\n",
       "      <td>98595.0</td>\n",
       "      <td>802.0</td>\n",
       "      <td>8.0</td>\n",
       "      <td>54.0</td>\n",
       "      <td>NaN</td>\n",
       "      <td>237.0</td>\n",
       "      <td>503.0</td>\n",
       "      <td>3888.0</td>\n",
       "      <td>683.0</td>\n",
       "      <td>3083.0</td>\n",
       "      <td>122.0</td>\n",
       "      <td>12.0</td>\n",
       "      <td>9.720974e+09</td>\n",
       "      <td>1.0</td>\n",
       "      <td>1.0</td>\n",
       "      <td>1.0</td>\n",
       "      <td>1.0</td>\n",
       "      <td>1.0</td>\n",
       "    </tr>\n",
       "  </tbody>\n",
       "</table>\n",
       "</div>"
      ],
      "text/plain": [
       "                       City  Population  Violent crime  \\\n",
       "0             Adams Village      1851.0            0.0   \n",
       "1  Addison Town and Village      2568.0            2.0   \n",
       "2            Afton Village4       820.0            0.0   \n",
       "3             Akron Village      2842.0            1.0   \n",
       "4                   Albany4     98595.0          802.0   \n",
       "\n",
       "   Murder and nonnegligent manslaughter  Rape (revised definition)  \\\n",
       "0                                   0.0                        NaN   \n",
       "1                                   0.0                        NaN   \n",
       "2                                   0.0                        0.0   \n",
       "3                                   0.0                        NaN   \n",
       "4                                   8.0                       54.0   \n",
       "\n",
       "   Rape (legacy definition)2  Robbery  Aggravated assault  Property crime  \\\n",
       "0                        0.0      0.0                 0.0            11.0   \n",
       "1                        0.0      1.0                 1.0            49.0   \n",
       "2                        NaN      0.0                 0.0             1.0   \n",
       "3                        0.0      0.0                 1.0            17.0   \n",
       "4                        NaN    237.0               503.0          3888.0   \n",
       "\n",
       "   Burglary  Larceny-theft  Motor vehicle theft  Arson3  Population Squared  \\\n",
       "0       1.0           10.0                  0.0     0.0        3.426201e+06   \n",
       "1       1.0           47.0                  1.0     0.0        6.594624e+06   \n",
       "2       0.0            1.0                  0.0     0.0        6.724000e+05   \n",
       "3       0.0           17.0                  0.0     0.0        8.076964e+06   \n",
       "4     683.0         3083.0                122.0    12.0        9.720974e+09   \n",
       "\n",
       "   rob  murder  burglary  Agg. Assault  larceny  \n",
       "0  0.0     0.0       1.0           0.0      1.0  \n",
       "1  1.0     0.0       1.0           1.0      1.0  \n",
       "2  0.0     0.0       0.0           0.0      1.0  \n",
       "3  0.0     0.0       0.0           1.0      1.0  \n",
       "4  1.0     1.0       1.0           1.0      1.0  "
      ]
     },
     "execution_count": 198,
     "metadata": {},
     "output_type": "execute_result"
    }
   ],
   "source": [
    "df.head()"
   ]
  },
  {
   "cell_type": "code",
   "execution_count": 199,
   "metadata": {
    "scrolled": true
   },
   "outputs": [
    {
     "name": "stdout",
     "output_type": "stream",
     "text": [
      "\n",
      "Coefficients: \n",
      " [[ 1.56196460e-02  9.66047107e-08 -9.09739355e+00  8.25655952e+01]]\n",
      "\n",
      "Intercept: \n",
      " [7.29979152]\n",
      "\n",
      "R-squared:\n",
      "0.8887778996518514\n"
     ]
    }
   ],
   "source": [
    "regr = linear_model.LinearRegression()\n",
    "Y = df['Property crime'].values.reshape(-1, 1)\n",
    "X = df[['Population','Population Squared','rob','murder']]\n",
    "regr.fit(X, Y)\n",
    "\n",
    "# Inspect the results.\n",
    "print('\\nCoefficients: \\n', regr.coef_)\n",
    "print('\\nIntercept: \\n', regr.intercept_)\n",
    "print('\\nR-squared:')\n",
    "print(regr.score(X, Y))"
   ]
  },
  {
   "cell_type": "code",
   "execution_count": 200,
   "metadata": {},
   "outputs": [],
   "source": [
    "#features = ['Burglary','Murder and nonnegligent manslaughter', 'Robbery']\n",
    "#fx = df.loc[:, features].values\n",
    "fx = StandardScaler().fit_transform(fx)\n",
    "\n",
    "\n",
    "pca = PCA(n_components=2)\n",
    "principalComponents = pca.fit_transform(fx)\n"
   ]
  },
  {
   "cell_type": "code",
   "execution_count": 201,
   "metadata": {},
   "outputs": [],
   "source": [
    "principalDf = pd.DataFrame(data = principalComponents\n",
    "             , columns = ['principal component 1', 'principal component 2'])\n",
    "\n",
    "df['principal_component_1']=principalDf['principal component 1']\n",
    "df['principal_component_2']=principalDf['principal component 2']\n",
    "#df.head(365)"
   ]
  },
  {
   "cell_type": "code",
   "execution_count": 202,
   "metadata": {},
   "outputs": [
    {
     "name": "stdout",
     "output_type": "stream",
     "text": [
      "\n",
      "Coefficients: \n",
      " [[ 792.85976058 5627.23260999]]\n",
      "\n",
      "Intercept: \n",
      " [393.40878342]\n",
      "\n",
      "R-squared:\n",
      "0.9417844113557867\n"
     ]
    }
   ],
   "source": [
    "regr = linear_model.LinearRegression()\n",
    "Y = df['Property crime'].values.reshape(-1, 1)\n",
    "X = df[['principal_component_1','principal_component_2']]\n",
    "regr.fit(X, Y)\n",
    "\n",
    "# Inspect the results.\n",
    "print('\\nCoefficients: \\n', regr.coef_)\n",
    "print('\\nIntercept: \\n', regr.intercept_)\n",
    "print('\\nR-squared:')\n",
    "print(regr.score(X, Y))"
   ]
  },
  {
   "cell_type": "code",
   "execution_count": 203,
   "metadata": {},
   "outputs": [],
   "source": [
    "df.rename(index=str, columns={\"Property crime\": \"PropertyCrime\"},  inplace = True)\n",
    "linear_formula = 'PropertyCrime ~ principal_component_1 + principal_component_2'\n",
    "\n",
    "# Fit the model to our data using the formula.\n",
    "lm = smf.ols(formula=linear_formula, data=df).fit()"
   ]
  },
  {
   "cell_type": "code",
   "execution_count": 204,
   "metadata": {},
   "outputs": [
    {
     "data": {
      "text/plain": [
       "Intercept                 393.408783\n",
       "principal_component_1     792.859761\n",
       "principal_component_2    5627.232610\n",
       "dtype: float64"
      ]
     },
     "execution_count": 204,
     "metadata": {},
     "output_type": "execute_result"
    }
   ],
   "source": [
    "lm.params"
   ]
  },
  {
   "cell_type": "code",
   "execution_count": 205,
   "metadata": {},
   "outputs": [
    {
     "data": {
      "text/plain": [
       "Intercept                1.233791e-66\n",
       "principal_component_1    2.343312e-07\n",
       "principal_component_2    1.288094e-35\n",
       "dtype: float64"
      ]
     },
     "execution_count": 205,
     "metadata": {},
     "output_type": "execute_result"
    }
   ],
   "source": [
    "lm.pvalues"
   ]
  },
  {
   "cell_type": "code",
   "execution_count": 206,
   "metadata": {},
   "outputs": [
    {
     "data": {
      "text/plain": [
       "0.9417844113557867"
      ]
     },
     "execution_count": 206,
     "metadata": {},
     "output_type": "execute_result"
    }
   ],
   "source": [
    "lm.rsquared"
   ]
  },
  {
   "cell_type": "code",
   "execution_count": null,
   "metadata": {},
   "outputs": [],
   "source": []
  }
 ],
 "metadata": {
  "kernelspec": {
   "display_name": "Python 3",
   "language": "python",
   "name": "python3"
  },
  "language_info": {
   "codemirror_mode": {
    "name": "ipython",
    "version": 3
   },
   "file_extension": ".py",
   "mimetype": "text/x-python",
   "name": "python",
   "nbconvert_exporter": "python",
   "pygments_lexer": "ipython3",
   "version": "3.6.4"
  }
 },
 "nbformat": 4,
 "nbformat_minor": 2
}
