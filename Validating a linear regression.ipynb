{
 "cells": [
  {
   "cell_type": "code",
   "execution_count": 52,
   "metadata": {},
   "outputs": [],
   "source": [
    "from IPython.display import display\n",
    "from matplotlib import pyplot as plt\n",
    "from sklearn import linear_model\n",
    "import statsmodels.formula.api as smf"
   ]
  },
  {
   "cell_type": "code",
   "execution_count": 53,
   "metadata": {},
   "outputs": [],
   "source": [
    "import pandas as pd\n",
    "import numpy as np\n",
    "import matplotlib.pyplot as plt\n",
    "import seaborn as sns\n",
    "import scipy.stats as stats\n",
    "import math\n",
    "import statistics\n",
    "from matplotlib.mlab import PCA as mlabPCA\n",
    "from sklearn.preprocessing import StandardScaler\n",
    "from sklearn.decomposition import PCA \n",
    "from statsmodels.sandbox.regression.predstd import wls_prediction_std\n",
    "from sklearn.model_selection import train_test_split\n",
    "\n",
    "df = pd.read_csv('Offenses_NYC_2014.csv')\n",
    "df2 = pd.read_csv('Offenses_NYC_2013.csv')\n",
    "df.isnull().values.any() \n",
    "\n",
    "df.rename(index=str, columns={\"Property crime\": \"PropertyCrime\"},  inplace = True)"
   ]
  },
  {
   "cell_type": "code",
   "execution_count": 54,
   "metadata": {
    "scrolled": true
   },
   "outputs": [],
   "source": [
    "df = df.drop(df.index[227])\n",
    "df = df.drop(df.index[363])\n",
    "\n",
    "df2 = df2.drop(df2.index[216])"
   ]
  },
  {
   "cell_type": "code",
   "execution_count": 55,
   "metadata": {},
   "outputs": [],
   "source": [
    "rob=df['Robbery']\n",
    "pop=df['Population']\n",
    "square=df['Population']**2\n",
    "df['Population Squared']=square\n",
    "murder=df['Murder and nonnegligent manslaughter']"
   ]
  },
  {
   "cell_type": "code",
   "execution_count": 56,
   "metadata": {},
   "outputs": [],
   "source": [
    "count=0\n",
    "rob=rob*1\n",
    "for num in rob:\n",
    "    if num > 0:\n",
    "     rob[count]=1\n",
    "    count +=1\n",
    "df['rob']=rob\n",
    "\n",
    "count=0\n",
    "murder=murder*1\n",
    "for num in murder:\n",
    "    if num > 0:\n",
    "     murder[count]=1\n",
    "    count +=1\n",
    "df['murder']=murder\n",
    "\n",
    "burg=df['Burglary']\n",
    "count=0\n",
    "burg=burg*1\n",
    "for num in burg:\n",
    "    if num > 0:\n",
    "     burg[count]=1\n",
    "    count +=1\n",
    "df['burglary']=burg\n",
    "\n",
    "assault=df['Aggravated assault']\n",
    "count=0\n",
    "assault=assault*1\n",
    "for num in assault:\n",
    "    if num > 0:\n",
    "     assault[count]=1\n",
    "    count +=1\n",
    "df['Agg. Assault']=assault\n",
    "\n",
    "theft=df['Larceny-theft']\n",
    "count=0\n",
    "theft=theft*1\n",
    "for num in theft:\n",
    "    if num > 0:\n",
    "     theft[count]=1\n",
    "    count +=1\n",
    "df['larceny']=theft\n",
    "\n"
   ]
  },
  {
   "cell_type": "code",
   "execution_count": 57,
   "metadata": {
    "scrolled": true
   },
   "outputs": [
    {
     "data": {
      "text/html": [
       "<div>\n",
       "<style scoped>\n",
       "    .dataframe tbody tr th:only-of-type {\n",
       "        vertical-align: middle;\n",
       "    }\n",
       "\n",
       "    .dataframe tbody tr th {\n",
       "        vertical-align: top;\n",
       "    }\n",
       "\n",
       "    .dataframe thead th {\n",
       "        text-align: right;\n",
       "    }\n",
       "</style>\n",
       "<table border=\"1\" class=\"dataframe\">\n",
       "  <thead>\n",
       "    <tr style=\"text-align: right;\">\n",
       "      <th></th>\n",
       "      <th>City</th>\n",
       "      <th>Population</th>\n",
       "      <th>Violent crime</th>\n",
       "      <th>Murder and nonnegligent manslaughter</th>\n",
       "      <th>Rape (revised definition)</th>\n",
       "      <th>Rape (legacy definition)2</th>\n",
       "      <th>Robbery</th>\n",
       "      <th>Aggravated assault</th>\n",
       "      <th>PropertyCrime</th>\n",
       "      <th>Burglary</th>\n",
       "      <th>Larceny-theft</th>\n",
       "      <th>Motor vehicle theft</th>\n",
       "      <th>Arson3</th>\n",
       "      <th>Population Squared</th>\n",
       "      <th>rob</th>\n",
       "      <th>murder</th>\n",
       "      <th>burglary</th>\n",
       "      <th>Agg. Assault</th>\n",
       "      <th>larceny</th>\n",
       "    </tr>\n",
       "  </thead>\n",
       "  <tbody>\n",
       "    <tr>\n",
       "      <th>0</th>\n",
       "      <td>Adams Village</td>\n",
       "      <td>1851.0</td>\n",
       "      <td>0.0</td>\n",
       "      <td>0.0</td>\n",
       "      <td>NaN</td>\n",
       "      <td>0.0</td>\n",
       "      <td>0.0</td>\n",
       "      <td>0.0</td>\n",
       "      <td>11.0</td>\n",
       "      <td>1.0</td>\n",
       "      <td>10.0</td>\n",
       "      <td>0.0</td>\n",
       "      <td>0.0</td>\n",
       "      <td>3.426201e+06</td>\n",
       "      <td>0.0</td>\n",
       "      <td>0.0</td>\n",
       "      <td>1.0</td>\n",
       "      <td>0.0</td>\n",
       "      <td>1.0</td>\n",
       "    </tr>\n",
       "    <tr>\n",
       "      <th>1</th>\n",
       "      <td>Addison Town and Village</td>\n",
       "      <td>2568.0</td>\n",
       "      <td>2.0</td>\n",
       "      <td>0.0</td>\n",
       "      <td>NaN</td>\n",
       "      <td>0.0</td>\n",
       "      <td>1.0</td>\n",
       "      <td>1.0</td>\n",
       "      <td>49.0</td>\n",
       "      <td>1.0</td>\n",
       "      <td>47.0</td>\n",
       "      <td>1.0</td>\n",
       "      <td>0.0</td>\n",
       "      <td>6.594624e+06</td>\n",
       "      <td>1.0</td>\n",
       "      <td>0.0</td>\n",
       "      <td>1.0</td>\n",
       "      <td>1.0</td>\n",
       "      <td>1.0</td>\n",
       "    </tr>\n",
       "    <tr>\n",
       "      <th>2</th>\n",
       "      <td>Afton Village4</td>\n",
       "      <td>820.0</td>\n",
       "      <td>0.0</td>\n",
       "      <td>0.0</td>\n",
       "      <td>0.0</td>\n",
       "      <td>NaN</td>\n",
       "      <td>0.0</td>\n",
       "      <td>0.0</td>\n",
       "      <td>1.0</td>\n",
       "      <td>0.0</td>\n",
       "      <td>1.0</td>\n",
       "      <td>0.0</td>\n",
       "      <td>0.0</td>\n",
       "      <td>6.724000e+05</td>\n",
       "      <td>0.0</td>\n",
       "      <td>0.0</td>\n",
       "      <td>0.0</td>\n",
       "      <td>0.0</td>\n",
       "      <td>1.0</td>\n",
       "    </tr>\n",
       "    <tr>\n",
       "      <th>3</th>\n",
       "      <td>Akron Village</td>\n",
       "      <td>2842.0</td>\n",
       "      <td>1.0</td>\n",
       "      <td>0.0</td>\n",
       "      <td>NaN</td>\n",
       "      <td>0.0</td>\n",
       "      <td>0.0</td>\n",
       "      <td>1.0</td>\n",
       "      <td>17.0</td>\n",
       "      <td>0.0</td>\n",
       "      <td>17.0</td>\n",
       "      <td>0.0</td>\n",
       "      <td>0.0</td>\n",
       "      <td>8.076964e+06</td>\n",
       "      <td>0.0</td>\n",
       "      <td>0.0</td>\n",
       "      <td>0.0</td>\n",
       "      <td>1.0</td>\n",
       "      <td>1.0</td>\n",
       "    </tr>\n",
       "    <tr>\n",
       "      <th>4</th>\n",
       "      <td>Albany4</td>\n",
       "      <td>98595.0</td>\n",
       "      <td>802.0</td>\n",
       "      <td>8.0</td>\n",
       "      <td>54.0</td>\n",
       "      <td>NaN</td>\n",
       "      <td>237.0</td>\n",
       "      <td>503.0</td>\n",
       "      <td>3888.0</td>\n",
       "      <td>683.0</td>\n",
       "      <td>3083.0</td>\n",
       "      <td>122.0</td>\n",
       "      <td>12.0</td>\n",
       "      <td>9.720974e+09</td>\n",
       "      <td>1.0</td>\n",
       "      <td>1.0</td>\n",
       "      <td>1.0</td>\n",
       "      <td>1.0</td>\n",
       "      <td>1.0</td>\n",
       "    </tr>\n",
       "  </tbody>\n",
       "</table>\n",
       "</div>"
      ],
      "text/plain": [
       "                       City  Population  Violent crime  \\\n",
       "0             Adams Village      1851.0            0.0   \n",
       "1  Addison Town and Village      2568.0            2.0   \n",
       "2            Afton Village4       820.0            0.0   \n",
       "3             Akron Village      2842.0            1.0   \n",
       "4                   Albany4     98595.0          802.0   \n",
       "\n",
       "   Murder and nonnegligent manslaughter  Rape (revised definition)  \\\n",
       "0                                   0.0                        NaN   \n",
       "1                                   0.0                        NaN   \n",
       "2                                   0.0                        0.0   \n",
       "3                                   0.0                        NaN   \n",
       "4                                   8.0                       54.0   \n",
       "\n",
       "   Rape (legacy definition)2  Robbery  Aggravated assault  PropertyCrime  \\\n",
       "0                        0.0      0.0                 0.0           11.0   \n",
       "1                        0.0      1.0                 1.0           49.0   \n",
       "2                        NaN      0.0                 0.0            1.0   \n",
       "3                        0.0      0.0                 1.0           17.0   \n",
       "4                        NaN    237.0               503.0         3888.0   \n",
       "\n",
       "   Burglary  Larceny-theft  Motor vehicle theft  Arson3  Population Squared  \\\n",
       "0       1.0           10.0                  0.0     0.0        3.426201e+06   \n",
       "1       1.0           47.0                  1.0     0.0        6.594624e+06   \n",
       "2       0.0            1.0                  0.0     0.0        6.724000e+05   \n",
       "3       0.0           17.0                  0.0     0.0        8.076964e+06   \n",
       "4     683.0         3083.0                122.0    12.0        9.720974e+09   \n",
       "\n",
       "   rob  murder  burglary  Agg. Assault  larceny  \n",
       "0  0.0     0.0       1.0           0.0      1.0  \n",
       "1  1.0     0.0       1.0           1.0      1.0  \n",
       "2  0.0     0.0       0.0           0.0      1.0  \n",
       "3  0.0     0.0       0.0           1.0      1.0  \n",
       "4  1.0     1.0       1.0           1.0      1.0  "
      ]
     },
     "execution_count": 57,
     "metadata": {},
     "output_type": "execute_result"
    }
   ],
   "source": [
    "df.head()"
   ]
  },
  {
   "cell_type": "code",
   "execution_count": 59,
   "metadata": {
    "scrolled": true
   },
   "outputs": [
    {
     "name": "stdout",
     "output_type": "stream",
     "text": [
      "\n",
      "Coefficients: \n",
      " [[9.51829747e-03 1.18331259e-07 9.86630673e+01 2.77208015e+02]]\n",
      "\n",
      "Intercept: \n",
      " [-11.18600825]\n",
      "\n",
      "R-squared:\n",
      "0.8399435640661663\n"
     ]
    }
   ],
   "source": [
    "regr = linear_model.LinearRegression()\n",
    "Y = df['PropertyCrime'].values.reshape(-1, 1)\n",
    "X = df[['Population','Population Squared','rob','murder']]\n",
    "regr.fit(X, Y)\n",
    "\n",
    "# Inspect the results.\n",
    "print('\\nCoefficients: \\n', regr.coef_)\n",
    "print('\\nIntercept: \\n', regr.intercept_)\n",
    "print('\\nR-squared:')\n",
    "print(regr.score(X, Y))"
   ]
  },
  {
   "cell_type": "code",
   "execution_count": 66,
   "metadata": {},
   "outputs": [
    {
     "name": "stderr",
     "output_type": "stream",
     "text": [
      "C:\\Users\\ihemb\\Anaconda3\\lib\\site-packages\\sklearn\\utils\\validation.py:475: DataConversionWarning: Data with input dtype int64 was converted to float64 by StandardScaler.\n",
      "  warnings.warn(msg, DataConversionWarning)\n"
     ]
    }
   ],
   "source": [
    "features = ['Burglary','Murder and nonnegligent manslaughter', 'Robbery']\n",
    "fx = df.loc[:, features].values\n",
    "fx = StandardScaler().fit_transform(fx)\n",
    "\n",
    "fx2 = df2.loc[:, features].values\n",
    "fx2 = StandardScaler().fit_transform(fx2)\n",
    "\n",
    "\n",
    "pca = PCA(n_components=2)\n",
    "principalComponents = pca.fit_transform(fx)\n",
    "\n",
    "pca2 = PCA(n_components=2)\n",
    "principalComponents2 = pca.fit_transform(fx2)\n"
   ]
  },
  {
   "cell_type": "code",
   "execution_count": 68,
   "metadata": {},
   "outputs": [],
   "source": [
    "principalDf = pd.DataFrame(data = principalComponents\n",
    "             , columns = ['principal_component_1', 'principal_component_2'])\n",
    "\n",
    "\n",
    "principalDf2 = pd.DataFrame(data = principalComponents2\n",
    "             , columns = ['principal_component_1', 'principal_component_2'])"
   ]
  },
  {
   "cell_type": "code",
   "execution_count": 75,
   "metadata": {},
   "outputs": [
    {
     "name": "stdout",
     "output_type": "stream",
     "text": [
      "\n",
      "Coefficients: \n",
      " [[  531.28042499 -1035.29413802]]\n",
      "\n",
      "Intercept: \n",
      " [330.38147139]\n",
      "\n",
      "R-squared:\n",
      "0.9568805072964774\n"
     ]
    }
   ],
   "source": [
    "regr = linear_model.LinearRegression()\n",
    "Y = df['PropertyCrime'].values.reshape(-1, 1)\n",
    "X = principalDf[['principal_component_1','principal_component_2']]\n",
    "regr.fit(X, Y)\n",
    "\n",
    "# Inspect the results.\n",
    "print('\\nCoefficients: \\n', regr.coef_)\n",
    "print('\\nIntercept: \\n', regr.intercept_)\n",
    "print('\\nR-squared:')\n",
    "print(regr.score(X, Y))"
   ]
  },
  {
   "cell_type": "code",
   "execution_count": 76,
   "metadata": {},
   "outputs": [
    {
     "name": "stdout",
     "output_type": "stream",
     "text": [
      "\n",
      "Coefficients: \n",
      " [[ 576.78370509 -970.38405306]]\n",
      "\n",
      "Intercept: \n",
      " [385.75216138]\n",
      "\n",
      "R-squared:\n",
      "0.9499978806745598\n"
     ]
    }
   ],
   "source": [
    "regr2 = linear_model.LinearRegression()\n",
    "Y2 = df2['Property crime'].values.reshape(-1, 1)\n",
    "X2 = principalDf2[['principal_component_1','principal_component_2']]\n",
    "regr2.fit(X2, Y2)\n",
    "\n",
    "# Inspect the results.\n",
    "print('\\nCoefficients: \\n', regr2.coef_)\n",
    "print('\\nIntercept: \\n', regr2.intercept_)\n",
    "print('\\nR-squared:')\n",
    "print(regr2.score(X2, Y2))"
   ]
  },
  {
   "cell_type": "code",
   "execution_count": 37,
   "metadata": {},
   "outputs": [],
   "source": [
    "df.rename(index=str, columns={\"Property crime\": \"PropertyCrime\"},  inplace = True)\n",
    "linear_formula = 'PropertyCrime ~ principal_component_1 + principal_component_2'\n",
    "\n",
    "# Fit the model to our data using the formula.\n",
    "lm = smf.ols(formula=linear_formula, data=df).fit()"
   ]
  },
  {
   "cell_type": "code",
   "execution_count": 16,
   "metadata": {},
   "outputs": [
    {
     "data": {
      "text/plain": [
       "Intercept                 393.408783\n",
       "principal_component_1     792.859761\n",
       "principal_component_2    5627.232610\n",
       "dtype: float64"
      ]
     },
     "execution_count": 16,
     "metadata": {},
     "output_type": "execute_result"
    }
   ],
   "source": [
    "lm.params"
   ]
  },
  {
   "cell_type": "code",
   "execution_count": 17,
   "metadata": {},
   "outputs": [
    {
     "data": {
      "text/plain": [
       "Intercept                1.233791e-66\n",
       "principal_component_1    2.343312e-07\n",
       "principal_component_2    1.288094e-35\n",
       "dtype: float64"
      ]
     },
     "execution_count": 17,
     "metadata": {},
     "output_type": "execute_result"
    }
   ],
   "source": [
    "lm.pvalues"
   ]
  },
  {
   "cell_type": "code",
   "execution_count": 18,
   "metadata": {},
   "outputs": [
    {
     "data": {
      "text/plain": [
       "0.9417844113557867"
      ]
     },
     "execution_count": 18,
     "metadata": {},
     "output_type": "execute_result"
    }
   ],
   "source": [
    "lm.rsquared"
   ]
  },
  {
   "cell_type": "code",
   "execution_count": null,
   "metadata": {},
   "outputs": [],
   "source": []
  },
  {
   "cell_type": "code",
   "execution_count": 78,
   "metadata": {},
   "outputs": [
    {
     "name": "stdout",
     "output_type": "stream",
     "text": [
      "With 2013 data: 0.008645533141210375\n",
      "Testing on 2014: 0.035422343324250684\n"
     ]
    },
    {
     "name": "stderr",
     "output_type": "stream",
     "text": [
      "C:\\Users\\ihemb\\Anaconda3\\lib\\site-packages\\sklearn\\utils\\validation.py:578: DataConversionWarning: A column-vector y was passed when a 1d array was expected. Please change the shape of y to (n_samples, ), for example using ravel().\n",
      "  y = column_or_1d(y, warn=True)\n"
     ]
    }
   ],
   "source": [
    "#X_train, X_test, y_train, y_test = train_test_split( x, Y, test_size=0.33, random_state=42)\n",
    "print('With 2013 data: ' + str(bnb.fit(X, Y).score(X2, Y2)))\n",
    "print('Testing on 2014: ' + str(bnb.fit(X, Y).score(X, Y)))"
   ]
  },
  {
   "cell_type": "code",
   "execution_count": 83,
   "metadata": {},
   "outputs": [
    {
     "data": {
      "image/png": "[encoded data removed]",
      "text/plain": [
       "<matplotlib.figure.Figure at 0x1c15e9e5b70>"
      ]
     },
     "metadata": {},
     "output_type": "display_data"
    }
   ],
   "source": [
    "predictions = regr.predict(X2)\n",
    "\n",
    "plt.scatter(Y2, predictions)\n",
    "plt.show()"
   ]
  },
  {
   "cell_type": "code",
   "execution_count": null,
   "metadata": {},
   "outputs": [],
   "source": []
  }
 ],
 "metadata": {
  "kernelspec": {
   "display_name": "Python 3",
   "language": "python",
   "name": "python3"
  },
  "language_info": {
   "codemirror_mode": {
    "name": "ipython",
    "version": 3
   },
   "file_extension": ".py",
   "mimetype": "text/x-python",
   "name": "python",
   "nbconvert_exporter": "python",
   "pygments_lexer": "ipython3",
   "version": "3.6.4"
  }
 },
 "nbformat": 4,
 "nbformat_minor": 2
}
