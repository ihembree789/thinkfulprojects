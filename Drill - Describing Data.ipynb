{
 "cells": [
  {
   "cell_type": "markdown",
   "metadata": {},
   "source": [
    "# Drill - Describing Data\n",
    "###  by Created Isaac Hembree"
   ]
  },
  {
   "cell_type": "code",
   "execution_count": 19,
   "metadata": {},
   "outputs": [],
   "source": [
    "import pandas as pd\n",
    "import numpy as np\n",
    "import statistics"
   ]
  },
  {
   "cell_type": "code",
   "execution_count": 89,
   "metadata": {},
   "outputs": [
    {
     "data": {
      "text/html": [
       "<div>\n",
       "<style scoped>\n",
       "    .dataframe tbody tr th:only-of-type {\n",
       "        vertical-align: middle;\n",
       "    }\n",
       "\n",
       "    .dataframe tbody tr th {\n",
       "        vertical-align: top;\n",
       "    }\n",
       "\n",
       "    .dataframe thead th {\n",
       "        text-align: right;\n",
       "    }\n",
       "</style>\n",
       "<table border=\"1\" class=\"dataframe\">\n",
       "  <thead>\n",
       "    <tr style=\"text-align: right;\">\n",
       "      <th></th>\n",
       "      <th>age</th>\n",
       "    </tr>\n",
       "  </thead>\n",
       "  <tbody>\n",
       "    <tr>\n",
       "      <th>Greg</th>\n",
       "      <td>14</td>\n",
       "    </tr>\n",
       "    <tr>\n",
       "      <th>Marcia</th>\n",
       "      <td>12</td>\n",
       "    </tr>\n",
       "    <tr>\n",
       "      <th>Peter</th>\n",
       "      <td>11</td>\n",
       "    </tr>\n",
       "    <tr>\n",
       "      <th>Jan</th>\n",
       "      <td>10</td>\n",
       "    </tr>\n",
       "    <tr>\n",
       "      <th>Bobby</th>\n",
       "      <td>8</td>\n",
       "    </tr>\n",
       "    <tr>\n",
       "      <th>Cindy</th>\n",
       "      <td>6</td>\n",
       "    </tr>\n",
       "    <tr>\n",
       "      <th>Oliver</th>\n",
       "      <td>8</td>\n",
       "    </tr>\n",
       "  </tbody>\n",
       "</table>\n",
       "</div>"
      ],
      "text/plain": [
       "        age\n",
       "Greg     14\n",
       "Marcia   12\n",
       "Peter    11\n",
       "Jan      10\n",
       "Bobby     8\n",
       "Cindy     6\n",
       "Oliver    8"
      ]
     },
     "execution_count": 89,
     "metadata": {},
     "output_type": "execute_result"
    }
   ],
   "source": [
    "names=['Greg','Marcia','Peter','Jan','Bobby','Cindy','Oliver']\n",
    "Brady = pd.DataFrame(index=names)\n",
    "Brady['age']=[14, 12, 11, 10, 8, 6, 8]\n",
    "Brady"
   ]
  },
  {
   "cell_type": "markdown",
   "metadata": {},
   "source": [
    "### What are the mean, median, and mode of the kids' ages when they first appeared on the show? "
   ]
  },
  {
   "cell_type": "code",
   "execution_count": 42,
   "metadata": {
    "scrolled": true
   },
   "outputs": [
    {
     "name": "stdout",
     "output_type": "stream",
     "text": [
      "The mean age is 9.857142857142858.\n",
      "The median age is 10.0.\n",
      "The mode age is 8.\n"
     ]
    }
   ],
   "source": [
    "print(\"The mean age is {}.\".format(np.mean(Brady['age']))) \n",
    "print(\"The median age is {}.\".format(np.median(Brady['age']))) \n",
    "print(\"The mode age is {}.\".format(statistics.mode(Brady['age']))) "
   ]
  },
  {
   "cell_type": "markdown",
   "metadata": {},
   "source": [
    "###  What are the variance, standard deviation, and standard error?"
   ]
  },
  {
   "cell_type": "code",
   "execution_count": 43,
   "metadata": {},
   "outputs": [
    {
     "name": "stdout",
     "output_type": "stream",
     "text": [
      "The variance is 6.408163265306122.\n",
      "The standard deviation is 2.734262327610589.\n",
      "The standsrd error is 1.0334540197243192.\n"
     ]
    }
   ],
   "source": [
    "print(\"The variance is {}.\".format(np.var(Brady['age']))) \n",
    "print(\"The standard deviation is {}.\".format(np.std(Brady['age'],ddof=1 ))) \n",
    "print(\"The standsrd error is {}.\".format(np.std(Brady['age'] ,ddof=1) / np.sqrt(len(Brady['age'])))) "
   ]
  },
  {
   "cell_type": "markdown",
   "metadata": {},
   "source": [
    "### Using these estimates, if you had to choose only one estimate of central tendency and one estimate of variance to describe the data, which would you pick and why?\n",
    "\n",
    "For the central tendency, I would pick mean because it best describes where the ages cluster around. I would pick variance because it's so low."
   ]
  },
  {
   "cell_type": "markdown",
   "metadata": {},
   "source": [
    "### Next, Cindy has a birthday. Update your estimates- what changed, and what didn't?"
   ]
  },
  {
   "cell_type": "code",
   "execution_count": 66,
   "metadata": {
    "scrolled": true
   },
   "outputs": [
    {
     "name": "stdout",
     "output_type": "stream",
     "text": [
      "The mean age is 10.0.\n",
      "The median age is 10.0.\n",
      "The mode age is 8.\n",
      "The variance is 5.428571428571429.\n",
      "The standard deviation is 2.516611478423583.\n",
      "The standsrd error is 0.9511897312113418.\n"
     ]
    }
   ],
   "source": [
    "Brady.loc['Cindy', 'age']=7\n",
    "print(\"The mean age is {}.\".format(np.mean(Brady['age']))) \n",
    "print(\"The median age is {}.\".format(np.median(Brady['age']))) \n",
    "print(\"The mode age is {}.\".format(statistics.mode(Brady['age']))) \n",
    "print(\"The variance is {}.\".format(np.var(Brady['age']))) \n",
    "print(\"The standard deviation is {}.\".format(np.std(Brady['age'],ddof=1 ))) \n",
    "print(\"The standsrd error is {}.\".format(np.std(Brady['age'] ,ddof=1) / np.sqrt(len(Brady['age']))))"
   ]
  },
  {
   "cell_type": "markdown",
   "metadata": {},
   "source": [
    "The mean and median age are now the same. The mode stay the same, and the variance went down. "
   ]
  },
  {
   "cell_type": "markdown",
   "metadata": {},
   "source": [
    "### Nobody likes Cousin Oliver. Maybe the network should have used an even younger actor. Replace Cousin Oliver with 1-year-old Jessica, then recalculate again. Does this change your choice of central tendency or variance estimation methods?"
   ]
  },
  {
   "cell_type": "code",
   "execution_count": 94,
   "metadata": {
    "scrolled": true
   },
   "outputs": [],
   "source": [
    "names=['Greg','Marcia','Peter','Jan','Bobby','Cindy','Jessica']\n",
    "Brady = pd.DataFrame(index=names)\n",
    "Brady['age']=[14, 12, 11, 10, 8, 7, 1]"
   ]
  },
  {
   "cell_type": "code",
   "execution_count": 93,
   "metadata": {},
   "outputs": [
    {
     "name": "stdout",
     "output_type": "stream",
     "text": [
      "The mean age is 9.0.\n",
      "The median age is 10.0.\n",
      "There is no mode age\n",
      "The variance is 15.428571428571429.\n",
      "The standard deviation is 4.242640687119285.\n",
      "The standsrd error is 1.6035674514745462.\n"
     ]
    }
   ],
   "source": [
    "print(\"The mean age is {}.\".format(np.mean(Brady['age']))) \n",
    "print(\"The median age is {}.\".format(np.median(Brady['age'])))\n",
    "print(\"There is no mode for age\")\n",
    "print(\"The variance is {}.\".format(np.var(Brady['age']))) \n",
    "print(\"The standard deviation is {}.\".format(np.std(Brady['age'],ddof=1 ))) \n",
    "print(\"The standsrd error is {}.\".format(np.std(Brady['age'] ,ddof=1) / np.sqrt(len(Brady['age']))))"
   ]
  },
  {
   "cell_type": "markdown",
   "metadata": {},
   "source": [
    "This changing my choice of central tendency to median. "
   ]
  },
  {
   "cell_type": "markdown",
   "metadata": {},
   "source": [
    "### On the 50th anniversary of The Brady Bunch, four different magazines asked their readers whether they were fans of the show. The answers were: TV Guide 20% fans Entertainment Weekly 23% fans Pop Culture Today 17% fans SciPhi Phanatic 5% fans\n",
    "\n",
    "### Based on these numbers, what percentage of adult Americans would you estimate were Brady Bunch fans on the 50th anniversary of the show?"
   ]
  },
  {
   "cell_type": "code",
   "execution_count": 96,
   "metadata": {
    "scrolled": true
   },
   "outputs": [
    {
     "name": "stdout",
     "output_type": "stream",
     "text": [
      "16.25\n"
     ]
    }
   ],
   "source": [
    "print((20+23+17+5)/4)"
   ]
  },
  {
   "cell_type": "markdown",
   "metadata": {},
   "source": [
    "Based on this numbers, I would use the mean to estimate the percentage of fan, which is 16.25%."
   ]
  },
  {
   "cell_type": "code",
   "execution_count": null,
   "metadata": {},
   "outputs": [],
   "source": []
  }
 ],
 "metadata": {
  "kernelspec": {
   "display_name": "Python 3",
   "language": "python",
   "name": "python3"
  },
  "language_info": {
   "codemirror_mode": {
    "name": "ipython",
    "version": 3
   },
   "file_extension": ".py",
   "mimetype": "text/x-python",
   "name": "python",
   "nbconvert_exporter": "python",
   "pygments_lexer": "ipython3",
   "version": "3.6.4"
  }
 },
 "nbformat": 4,
 "nbformat_minor": 2
}
