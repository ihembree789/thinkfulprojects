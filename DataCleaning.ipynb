{
 "cells": [
  {
   "cell_type": "code",
   "execution_count": 195,
   "metadata": {},
   "outputs": [],
   "source": [
    "import numpy as np\n",
    "import pandas as pd\n",
    "import statistics\n",
    "import operator\n",
    "from collections import Counter\n",
    "from decimal import Decimal"
   ]
  },
  {
   "cell_type": "code",
   "execution_count": 173,
   "metadata": {
    "scrolled": true
   },
   "outputs": [
    {
     "data": {
      "text/html": [
       "<div>\n",
       "<style scoped>\n",
       "    .dataframe tbody tr th:only-of-type {\n",
       "        vertical-align: middle;\n",
       "    }\n",
       "\n",
       "    .dataframe tbody tr th {\n",
       "        vertical-align: top;\n",
       "    }\n",
       "\n",
       "    .dataframe thead th {\n",
       "        text-align: right;\n",
       "    }\n",
       "</style>\n",
       "<table border=\"1\" class=\"dataframe\">\n",
       "  <thead>\n",
       "    <tr style=\"text-align: right;\">\n",
       "      <th></th>\n",
       "      <th>PMID/PMCID</th>\n",
       "      <th>Publisher</th>\n",
       "      <th>Journal title</th>\n",
       "      <th>Article title</th>\n",
       "      <th>COST (£) charged to Wellcome (inc VAT when charged)</th>\n",
       "    </tr>\n",
       "  </thead>\n",
       "  <tbody>\n",
       "    <tr>\n",
       "      <th>0</th>\n",
       "      <td>NaN</td>\n",
       "      <td>CUP</td>\n",
       "      <td>Psychological Medicine</td>\n",
       "      <td>Reduced parahippocampal cortical thickness in ...</td>\n",
       "      <td>£0.00</td>\n",
       "    </tr>\n",
       "    <tr>\n",
       "      <th>1</th>\n",
       "      <td>PMC3679557</td>\n",
       "      <td>ACS</td>\n",
       "      <td>Biomacromolecules</td>\n",
       "      <td>Structural characterization of a Model Gram-ne...</td>\n",
       "      <td>£2381.04</td>\n",
       "    </tr>\n",
       "    <tr>\n",
       "      <th>2</th>\n",
       "      <td>23043264  PMC3506128</td>\n",
       "      <td>ACS</td>\n",
       "      <td>J Med Chem</td>\n",
       "      <td>Fumaroylamino-4,5-epoxymorphinans and related ...</td>\n",
       "      <td>£642.56</td>\n",
       "    </tr>\n",
       "    <tr>\n",
       "      <th>3</th>\n",
       "      <td>23438330 PMC3646402</td>\n",
       "      <td>ACS</td>\n",
       "      <td>J Med Chem</td>\n",
       "      <td>Orvinols with mixed kappa/mu opioid receptor a...</td>\n",
       "      <td>£669.64</td>\n",
       "    </tr>\n",
       "    <tr>\n",
       "      <th>4</th>\n",
       "      <td>23438216 PMC3601604</td>\n",
       "      <td>ACS</td>\n",
       "      <td>J Org Chem</td>\n",
       "      <td>Regioselective opening of myo-inositol orthoes...</td>\n",
       "      <td>£685.88</td>\n",
       "    </tr>\n",
       "  </tbody>\n",
       "</table>\n",
       "</div>"
      ],
      "text/plain": [
       "              PMID/PMCID Publisher           Journal title  \\\n",
       "0                    NaN       CUP  Psychological Medicine   \n",
       "1             PMC3679557       ACS       Biomacromolecules   \n",
       "2  23043264  PMC3506128        ACS              J Med Chem   \n",
       "3    23438330 PMC3646402       ACS              J Med Chem   \n",
       "4   23438216 PMC3601604        ACS              J Org Chem   \n",
       "\n",
       "                                       Article title  \\\n",
       "0  Reduced parahippocampal cortical thickness in ...   \n",
       "1  Structural characterization of a Model Gram-ne...   \n",
       "2  Fumaroylamino-4,5-epoxymorphinans and related ...   \n",
       "3  Orvinols with mixed kappa/mu opioid receptor a...   \n",
       "4  Regioselective opening of myo-inositol orthoes...   \n",
       "\n",
       "  COST (£) charged to Wellcome (inc VAT when charged)  \n",
       "0                                              £0.00   \n",
       "1                                           £2381.04   \n",
       "2                                            £642.56   \n",
       "3                                            £669.64   \n",
       "4                                            £685.88   "
      ]
     },
     "execution_count": 173,
     "metadata": {},
     "output_type": "execute_result"
    }
   ],
   "source": [
    "df = pd.read_csv('WELLCOME_APCspend2013_forThinkful.csv', encoding=\"unicode_escape\")\n",
    "df.head()"
   ]
  },
  {
   "cell_type": "code",
   "execution_count": 174,
   "metadata": {
    "scrolled": true
   },
   "outputs": [],
   "source": [
    "df['Journal title'].fillna('')\n",
    "df['Journal title'] = df['Journal title'].str.strip()\n",
    "df['Journal title'] = df['Journal title'].str.upper()\n",
    "df['Journal title'] = df['Journal title'].replace(['PLOSONE', 'PLOS ONE', 'PLOS 1', 'PLOS'], 'PLOS ONE') \n",
    "df['Journal title'] = df['Journal title'].replace(['ACTA D', 'ACTA CRYSTALLOGRAPHICA SECTION D', 'ACTA CRYSTALLOGRAPHY D', 'ACTA CRYSTALLOGRAPHICA SECTION D','ACTA CRYSTALLOGRAPHICA, SECTION D', 'ACTA CRYSTALLOGRAPHICA SECTION D, BIOLOGICAL CRYSTALLOGRAPHY'], 'ACTA CRYSTALLOGRAPHICA SECTION D: BIOLOGICAL CRYSTALLOGRAPHY') \n",
    "df['Journal title'] = df['Journal title'].replace(['AMERICAN JNL EPIDEMIOLOGY'], 'AMERICAN JOURNAL OF EPIDEMIOLOGY') \n",
    "df['Journal title'] = df['Journal title'].replace(['AMERICAN JOURNAL OF MEDICAL GENETICS PART A'], 'AMERICAN JOURNAL OF MEDICAL GENETICS') \n",
    "df['Journal title'] = df['Journal title'].replace(['ANTIMICROBIAL AGENTS AND CHEMOTHERAPY', 'ANTIMICROBIAL AGFENTS AND CHEMOTHERAPY'], 'ANTIMICROBIAL AGENTS & CHEMOTHERAPY') \n",
    "df['Journal title'] = df['Journal title'].replace(['ANGEWANDE CHEMIE', 'ANGEWANDTE CHEMIE INTERNATIONAL EDITION','ANGEW CHEMS INT ED' ], 'ANGEWANDTE CHEMIE') \n",
    "df['Journal title'] = df['Journal title'].replace(['BEHAVIOUR RESEARCH AND THERAPY'], 'BEHAVIOR RESEARCH & THERAPY')\n",
    "df['Journal title'] = df['Journal title'].replace(['ACTA CRYSTALLOGRAPHICA SECTION F: STRUCTURAL BIOLOGY AND CRYSTALLIZATION COMMUNICATIONS'], 'ACTA F')  \n",
    "df['Journal title'] = df['Journal title'].replace(['AMERICAN JOURNAL FOR CLINICAL NUTRITION'], 'AMERICAN JOURNAL OF CLINICAL NUTRITION')\n",
    "df['Journal title'] = df['Journal title'].replace(['ANTIOXIDANTS & REDOX SIGNALING'], 'ANTIOXIDANTS AND REDOX SIGNALING')\n",
    "df['Journal title'] = df['Journal title'].replace(['ARTHRITIS & RHEUMATISM'], 'ARTHRITIS AND RHEUMATISM') \n",
    "df['Journal title'] = df['Journal title'].replace(['ARTHRITIS RESEARCH & THERAPY'], 'ARTHRITIS RESEARCH AND THERAPY')\n",
    "df['Journal title'] = df['Journal title'].replace(['THE AMERICAL JOURNAL OF HUMAN GENETICS'], 'THE AMERICAN JOURNAL O)F HUMAN GENETICS')\n",
    "df['Journal title'] = df['Journal title'].replace(['TRENDS IN NEUROSCIENCES'], 'TRENDS IN NEUROSCIENCE')\n",
    "df['Journal title'] = df['Journal title'].replace(['VIROLOGY'], 'VIROLOGY JOURNAL')\n",
    "df['Journal title'] = df['Journal title'].replace(['BEHAVIOR RESEARCH & THERAPY'], 'BEHAVIOR RESEARCH AND THERAPY')\n",
    "df['Journal title'] = df['Journal title'].replace(['BIOCHEMICAL JOURNAL'], 'BIOCHEMICAL JOURNALS')\n",
    "df['Journal title'] = df['Journal title'].replace(['BIOCHIMICA ET BIOOHYSICA ACTA - GENE REGULATORY MECHANISMS', 'BIOCHIMICA ET BIOOHYSICA ACTA - MOLECULAR BASIS OF DISEASE', 'BIOCHIMICA ET BIOPHYSICA ACTA (BBA) - MOLECULAR CELL RESEARCH', 'BIOCHIMICA ET BIOPHYSICA ACTA - MOLECULAR BASIS OF DISEASE'], 'BIOCHIMICA ET BIOPHYSICA ACTA')\n",
    "df['Journal title'] = df['Journal title'].replace(['BMC GENOMICS.', 'BMS GENOMICS'], 'BMC GENOMICS',)\n",
    "df['Journal title'] = df['Journal title'].replace(['BRITISH JOURNAL OF OPTHALMOLOGY'], 'BRITISH JOURNAL OF OPHTHALMOLOGY')\n",
    "df['Journal title'] = df['Journal title'].replace(['BRITISH JOUNAL OF PHARMACOLOGY'], 'BRITISH JOURNAL OF PHARMACOLOGY')\n",
    "df['Journal title'] = df['Journal title'].replace(['CELL DEATH & DISEASE'], 'CELL DEATH AND DISEASE')\n",
    "df['Journal title'] = df['Journal title'].replace(['CELL DEATH AND DIFFERENTIATION'], 'CELL DEATH DIFFERENTIATION')\n",
    "df['Journal title'] = df['Journal title'].replace(['CELL REPORTS'], 'CELL PRESS - CELL REPORTS')\n",
    "df['Journal title'] = df['Journal title'].replace(['CELL REPORTS'], 'CELL PRESS - CELL REPORTS')\n",
    "df['Journal title'] = df['Journal title'].replace(['CELLULAR AND MOLECULAR CELL SCIENCES'], 'CELLULAR AND MOLECULAR LIFE SCIENCES')\n",
    "df['Journal title'] = df['Journal title'].replace(['CEREBRAL CORTEX ONLINE', 'CEREBRAL CORTEX PRINT'], 'CEREBRAL CORTEX') \n",
    "df['Journal title'] = df['Journal title'].replace(['CHILD: CARE, HEALTH DEVELOPMENT'], 'CHILD: CARE, HEATH & DEVELOPMENT')\n",
    "df['Journal title'] = df['Journal title'].replace(['CLINICAL INFECTIOUS DISEASES ONLINE', 'CLINICLA INFECTIOUS DISEASE'], 'CLINICAL INFECTIOUS DISEASES')\n",
    "df['Journal title'] = df['Journal title'].replace(['CONSCIOUSNESS & COGNITION'], 'CONSCIOUSNESS AND COGNITION')\n",
    "df['Journal title'] = df['Journal title'].replace(['CURR BIOL.'], 'CURRENT BIOLOGY')\n",
    "df['Journal title'] = df['Journal title'].replace(['DEV WORLD BIOETH.', 'DEV. WORLD BIOETH'], 'DEVELOPING WORLD BIOETHICS')\n",
    "df['Journal title'] = df['Journal title'].replace(['EUROPEAN CHILD AND ADOLESCENT PSYCHIATTY'], 'EUROPEAN CHILD AND ADOLESCENT PSYCHIATRY')\n",
    "df['Journal title'] = df['Journal title'].replace(['EPIGENTICS'], 'EPIENETICS')\n",
    "df['Journal title'] = df['Journal title'].replace(['FEBS J.'], 'FEBS JOURNAL')\n",
    "df['Journal title'] = df['Journal title'].replace(['GENETIC EPIDEMOLOGY'], 'GENETIC EPIDEMIOLOGY')\n",
    "df['Journal title'] = df['Journal title'].replace(['HEALTH & PLACE'], 'HEALTH AND PLACE')\n",
    "df['Journal title'] = df['Journal title'].replace(['HEPTOLOGY'], 'HEPATOLOGY')\n",
    "df['Journal title'] = df['Journal title'].replace(['HUMAN MOL GENETICS ONLINE', 'HUMAN MOLECULAR GENETICS'], 'HUMAN MOLECULAR GENETICS ONLINE')\n",
    "df['Journal title'] = df['Journal title'].replace(['HUMAN MUTATION'], 'HUMAN MUTATION: VARIATION, INFORMATICS, AND DISEASE')\n",
    "df['Journal title'] = df['Journal title'].replace(['INTERNATIONAL JOURAL OF EPIDEMIOLOGY', 'INYERNATIONAL JOURNAL OF EPIDEMIOLOGY', 'INT J EPIDEMIOL'], 'INTERNATIONAL JOURNAL OF EPIDEMIOLOGY')\n",
    "df['Journal title'] = df['Journal title'].replace(['IJTLD'], 'INTERNATIONAL JOURNAL OF TUBERCULOSIS  AND LUNG DISEASE')\n",
    "df['Journal title'] = df['Journal title'].replace(['INTERNATIONAL JOURNAL FOR PARASITOLOGY', 'INT JOURNAL FOR PARASITOLOGY'], 'INTERNATIONAL JOURNAL OF PARASITOLOGY')\n",
    "df['Journal title'] = df['Journal title'].replace(['INTERNATIONAL JOURNAL OF BEHAVIORAL NUTRITION AND PHYSICAL ACTIVITY'], 'INTERNATIONAL JOURNAL OF BEHAVIOURAL NUTRITION AND PHYSICAL ACTIVITY')\n",
    "df['Journal title'] = df['Journal title'].replace(['JOURNAL OF ALLERGY & CLINICAL IMMUNOLOGY'], 'JOURNAL OF ALLERGY AND CLINICAL IMMUNOLOGY')\n",
    "df['Journal title'] = df['Journal title'].replace(['JNL BIOLOGICAL CHEMISTRY', 'JOURNAL BIOLOGICAL CHEMISTRY', 'J BIOL CHEM.', 'J BIOL CHEMISTRY', 'JOURNAL OF BIOL CHEM'], 'JOURNAL OF BIOLOGICAL CHEMISTRY')\n",
    "df['Journal title'] = df['Journal title'].replace(['JAIDS JOURNAL OF ACQUIRED IMMUNE DEFICIENCY SYNDROMES', 'JOURNAL OF ACQUIRED IMMUNE DEFICIENCY SYNDROMES'], 'JOURNAL OF ACQUIRED IMMUNE DEFICIENCY SYNDROMS (JAIDS)')\n",
    "df['Journal title'] = df['Journal title'].replace(['JOURNAL OF BEHAVIOR THERAPY AND EXPERIMENTAL PSYCHIATRY'], 'JOURNAL OF BEHAVIOUR THERAPY AND EXPERIMENTAL PSYCHIATRY')\n",
    "df['Journal title'] = df['Journal title'].replace(['J CLIN MICROBIOL'], 'JOUNRAL OF CLINICAL MICROBIOLOGY')\n",
    "df['Journal title'] = df['Journal title'].replace(['JOURNAL OD CLINICAL ENDOCRINOLOGY'], 'JOURNAL OF CLINICAL ENDOCRINOLOGY')\n",
    "df['Journal title'] = df['Journal title'].replace(['J CELL SCI.'], 'JOURNAL OF CELL SCIENCE')\n",
    "df['Journal title'] = df['Journal title'].replace(['J IMMUNOL'], 'JOURNAL OF IMMUNOLOGY')\n",
    "df['Journal title'] = df['Journal title'].replace(['JOURNAL OF EPIDEMIOLOGY & COMMUNITY HEALTH'], 'JOURNAL OF EPIDEMIOLOGY AND COMMUNITY HEALTH')\n",
    "df['Journal title'] = df['Journal title'].replace(['J INFECT DIS'], 'JOURNAL OF INFECTIOUS DISEASES')\n",
    "df['Journal title'] = df['Journal title'].replace(['J MED CHEM', 'J MED CHEM.'], 'JOURNAL OF MEDICINAL CHEMISTRY')\n",
    "df['Journal title'] = df['Journal title'].replace(['J MOL BIOL'], 'JOURNAL OF MOLECULAR BIOLOGY')\n",
    "df['Journal title'] = df['Journal title'].replace(['JOURNAL OF NEUROLOGY, NEUROSURGERY & PSYCHIATRY'], 'JOURNAL OF NEUROLOGY, NEUROSURGERY AND PSYCHIATRY')\n",
    "df['Journal title'] = df['Journal title'].replace(['JOURNAL OF THE ROYAL SOCIETY, INTERFACE'], 'JOURNAL OF THE ROYAL SOCIETY INTERFACE') \n",
    "df['Journal title'] = df['Journal title'].replace(['JOURNAL OF VISULAIZED EXPERMIMENTS', 'JOURNAL OF VISUALIZED EXPERIEMENTS'], 'JOURNAL OF VISUALIZED EXPERIMENTS')\n",
    "df['Journal title'] = df['Journal title'].replace(['MARTEN CHILD NUTR'], 'MATERNAL AND CHILD NUTRITION')\n",
    "df['Journal title'] = df['Journal title'].replace(['MOLECLUAR & CELLULAR ENDOCRINOLOGY'], 'MOLECULAR AND CELLULAR ENDOCRINOLOGY')\n",
    "df['Journal title'] = df['Journal title'].replace(['MCP (MOLECULAR & CELLULAR PROTEOMICS)', 'MOLECULAR & CELLULAR PROTEOMICS'], 'MOLECULAR AND CELLULAR PROTEOMICS')\n",
    "df['Journal title'] = df['Journal title'].replace(['SCIENTIFIC REPORTS-11-00861B'], 'SCIENTIFIC REPORTS')\n",
    "df['Journal title'] = df['Journal title'].replace(['MOL BIOL AND EVOLUTION'], 'MOLECULAR BIOLOGY AND EVOLUTION')\n",
    "df['Journal title'] = df['Journal title'].replace(['NUCLEIC ACID RESEARCH'], 'NUCLEIC ACIDS RESEARCH')\n",
    "df['Journal title'] = df['Journal title'].replace(['NEUROLMAGE'], 'NEUROIMAGE')\n",
    "df['Journal title'] = df['Journal title'].replace(['NEPHROLOGY DIALYSIS AND TRANSPLANTATION'], 'NEPHROLOGY DIALYSIS TRANSPLANTATION')\n",
    "df['Journal title'] = df['Journal title'].replace(['PARSITOLOGY'],'PARASITOLOGY')\n",
    "df['Journal title'] = df['Journal title'].replace(['SOCIAL SCIENCE & MEDICINE'], 'SOCIAL SCIENCE AND MEDICINE')\n",
    "df['Journal title'] = df['Journal title'].replace(['PFLUGERS ARCHIV'], 'PFLUGERS ARCHIVE')\n",
    "df['Journal title'] = df['Journal title'].replace(['STUDIES IN HISTORY AND PHILOSOPHY OF SCIENCE PART C: STUDIES IN HISTORY AND PHILOSOPHY OF BIOLOGICAL AND BIOMEDICAL SCIENCES'], 'STUDIES IN HISTORY AND PHILOSOPHY OF SCIENCE PART C')\n",
    "df['Journal title'] = df['Journal title'].replace(['PHILOS TRANS R SOC LONDON B BIOL SCI', 'PHILOSOPHICAL TRANSACTIONS OF THE ROYAL SOCIETY OF LONDON. SERIES B, BIOLOGICAL SCIENCES'], 'PHILOSOPHICAL TRANSACTIONS B')\n",
    "df['Journal title'] = df['Journal title'].replace(['SEX TRANSM INFECT.'], 'SEXUALLY TRANSMITTED INFECTIONS') \n",
    "df['Journal title'] = df['Journal title'].replace(['SOCIAL PSYCHIATRY & PSYCHIATRIC EPIDEMIOLOGY', 'SOCIAL PSYCHIATRY AND PSYCHIATRIC EPIDEMIOL'], 'SOCIAL PSYCHIATRY AND PSYCHIATRIC EPIDEMIOLOGY')\n",
    "df['Journal title'] = df['Journal title'].replace(['PROCEEDINGS B', 'PROCEEDINGS OF THE ROYAL SOCIETY', 'PROCEEDINGS OF ROYAL SOCIETY'], 'PROCEEDINGS OF THE ROYAL SOCIETY B: BIOLOGICAL SCIENCES')\n",
    "df['Journal title'] = df['Journal title'].replace(['PNAS', 'PNAS (PROCEEDINGS OF THE NATIONAL ACADEMY OF SCIENCES OF THE UNITED STATES OF AMERICA', 'PNAS USA', 'PROC NATL ACAD SCI U S A.', 'PROCEDDINGS OF THE NATIONAL ACADEMY OF SCIENCES OF USA', 'PROCEEDINGS OF THE NATIONAL ACADEMY OF SCIENCES', 'PROCEEDINGS OF THE NATIONAL ACADEMY OF SCIENCES (PNAS)', 'PROCEEDINGS OF THE NATIONAL ACADEMY OF SCIENCES OF THE UNITED STATES OF AMERICA'], 'PROCEEDINGS OF THE NATIONAL ACADEMY OF SCIENCES OF THE USA')\n",
    "df['Journal title'] = df['Journal title'].replace(['PUBLIC LIBRARY OF SCIENCE ONE'], 'PUBLIC LIBRARY OF SCIENCE')\n",
    "df['Journal title'] = df['Journal title'].replace(['PARASIT VECTORS.'], 'PARASITES AND VECTORS') "
   ]
  },
  {
   "cell_type": "code",
   "execution_count": 175,
   "metadata": {
    "scrolled": false
   },
   "outputs": [],
   "source": [
    "js=[]\n",
    "for j in journal:\n",
    "    add=j\n",
    "    match=False\n",
    "    for name in js:\n",
    "        if add == name:\n",
    "            match=True\n",
    "    if not match:\n",
    "            js.append(add)\n",
    "            match=False\n",
    "js.sort()        \n",
    "#print(js)  \n",
    "#It was useful to print the journals in order to clean the data. "
   ]
  },
  {
   "cell_type": "code",
   "execution_count": 176,
   "metadata": {},
   "outputs": [
    {
     "data": {
      "text/plain": [
       "[('PLOS ONE', 210),\n",
       " ('JOURNAL OF BIOLOGICAL CHEMISTRY', 64),\n",
       " ('PROCEEDINGS OF THE NATIONAL ACADEMY OF SCIENCES OF THE USA', 37),\n",
       " ('NEUROIMAGE', 31),\n",
       " ('NUCLEIC ACIDS RESEARCH', 29)]"
      ]
     },
     "execution_count": 176,
     "metadata": {},
     "output_type": "execute_result"
    }
   ],
   "source": [
    "Counter(df['Journal title'],).most_common(5)"
   ]
  },
  {
   "cell_type": "code",
   "execution_count": 183,
   "metadata": {},
   "outputs": [],
   "source": [
    "df.rename(index=str, columns={\"COST (£) charged to Wellcome (inc VAT when charged)\": \"Cost\"},  inplace = True)"
   ]
  },
  {
   "cell_type": "code",
   "execution_count": 215,
   "metadata": {},
   "outputs": [
    {
     "ename": "TypeError",
     "evalue": "float() argument must be a string or a number, not 'NoneType'",
     "output_type": "error",
     "traceback": [
      "\u001b[1;31m---------------------------------------------------------------------------\u001b[0m",
      "\u001b[1;31mTypeError\u001b[0m                                 Traceback (most recent call last)",
      "\u001b[1;32m<ipython-input-215-14674346fe76>\u001b[0m in \u001b[0;36m<module>\u001b[1;34m()\u001b[0m\n\u001b[0;32m      4\u001b[0m \u001b[1;32mfor\u001b[0m \u001b[0mx\u001b[0m \u001b[1;32min\u001b[0m \u001b[0mcost\u001b[0m\u001b[1;33m[\u001b[0m\u001b[1;36m1\u001b[0m\u001b[1;33m]\u001b[0m\u001b[1;33m:\u001b[0m\u001b[1;33m\u001b[0m\u001b[0m\n\u001b[0;32m      5\u001b[0m     \u001b[0mstr\u001b[0m\u001b[1;33m(\u001b[0m\u001b[0mx\u001b[0m\u001b[1;33m)\u001b[0m\u001b[1;33m\u001b[0m\u001b[0m\n\u001b[1;32m----> 6\u001b[1;33m     \u001b[0mfloat\u001b[0m\u001b[1;33m(\u001b[0m\u001b[0mx\u001b[0m\u001b[1;33m)\u001b[0m\u001b[1;33m\u001b[0m\u001b[0m\n\u001b[0m",
      "\u001b[1;31mTypeError\u001b[0m: float() argument must be a string or a number, not 'NoneType'"
     ]
    }
   ],
   "source": [
    "df['Cost'].fillna('£0')\n",
    "cost=df['Cost'].str.split('£', expand=True)\n",
    "cost[1].fillna('0')\n",
    "for x in cost[1]:\n",
    "    str(x)\n",
    "    float(x)"
   ]
  },
  {
   "cell_type": "code",
   "execution_count": null,
   "metadata": {},
   "outputs": [],
   "source": []
  }
 ],
 "metadata": {
  "kernelspec": {
   "display_name": "Python 3",
   "language": "python",
   "name": "python3"
  },
  "language_info": {
   "codemirror_mode": {
    "name": "ipython",
    "version": 3
   },
   "file_extension": ".py",
   "mimetype": "text/x-python",
   "name": "python",
   "nbconvert_exporter": "python",
   "pygments_lexer": "ipython3",
   "version": "3.6.4"
  }
 },
 "nbformat": 4,
 "nbformat_minor": 2
}
